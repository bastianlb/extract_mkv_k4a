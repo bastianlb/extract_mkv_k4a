{
 "cells": [
  {
   "cell_type": "code",
   "execution_count": 52,
   "id": "ce145e05",
   "metadata": {},
   "outputs": [],
   "source": [
    "import pandas as pd\n",
    "import matplotlib.pyplot as plt "
   ]
  },
  {
   "cell_type": "code",
   "execution_count": 47,
   "id": "08dfb2a3",
   "metadata": {},
   "outputs": [],
   "source": [
    "df = pd.read_csv(\"./annotations_processed.csv\", infer_datetime_format=True, parse_dates=[\"Start\", \"End\"])\n",
    "for i, x in df.iterrows():\n",
    "    if df.loc[i, \"Phase\"][-1] == \"2\":\n",
    "        df.loc[i, \"Phase\"] = df.loc[i, \"Phase\"][:-1]\n",
    "    if df.loc[i, \"Phase\"] == \"blooper\":\n",
    "        df.drop(i, inplace=True)"
   ]
  },
  {
   "cell_type": "code",
   "execution_count": 53,
   "id": "5e32fca3",
   "metadata": {},
   "outputs": [
    {
     "data": {
      "image/png": "[encoded data removed]",
      "text/plain": [
       "<Figure size 432x288 with 1 Axes>"
      ]
     },
     "metadata": {
      "needs_background": "light"
     },
     "output_type": "display_data"
    }
   ],
   "source": [
    "df[\"length\"] = [x.total_seconds() / 60 for x in (df[\"End\"].values - df[\"Start\"].values)]\n",
    "plt.figure()\n",
    "df[[\"length\", \"Phase\"]].groupby(\"Phase\").boxplot(\"length\", rot=45,figsize=(8,10))\n",
    "plt.ylabel(\"Phase Length (minutes)\")\n",
    "plt.show()"
   ]
  },
  {
   "cell_type": "code",
   "execution_count": 63,
   "id": "39facaff",
   "metadata": {},
   "outputs": [],
   "source": [
    "summary = df[[\"length\", \"Phase\"]].groupby(\"Phase\").agg(['mean', 'median', 'std', 'count']).round(2)\n",
    "summary[('length', \"total\")] = summary[('length', \"mean\")] * summary[('length', \"count\")]"
   ]
  },
  {
   "cell_type": "code",
   "execution_count": 64,
   "id": "07bd8224",
   "metadata": {},
   "outputs": [
    {
     "data": {
      "text/html": [
       "<div>\n",
       "<style scoped>\n",
       "    .dataframe tbody tr th:only-of-type {\n",
       "        vertical-align: middle;\n",
       "    }\n",
       "\n",
       "    .dataframe tbody tr th {\n",
       "        vertical-align: top;\n",
       "    }\n",
       "\n",
       "    .dataframe thead tr th {\n",
       "        text-align: left;\n",
       "    }\n",
       "\n",
       "    .dataframe thead tr:last-of-type th {\n",
       "        text-align: right;\n",
       "    }\n",
       "</style>\n",
       "<table border=\"1\" class=\"dataframe\">\n",
       "  <thead>\n",
       "    <tr>\n",
       "      <th></th>\n",
       "      <th colspan=\"5\" halign=\"left\">length</th>\n",
       "    </tr>\n",
       "    <tr>\n",
       "      <th></th>\n",
       "      <th>mean</th>\n",
       "      <th>median</th>\n",
       "      <th>std</th>\n",
       "      <th>count</th>\n",
       "      <th>total</th>\n",
       "    </tr>\n",
       "    <tr>\n",
       "      <th>Phase</th>\n",
       "      <th></th>\n",
       "      <th></th>\n",
       "      <th></th>\n",
       "      <th></th>\n",
       "      <th></th>\n",
       "    </tr>\n",
       "  </thead>\n",
       "  <tbody>\n",
       "    <tr>\n",
       "      <th>LAC</th>\n",
       "      <td>8.91</td>\n",
       "      <td>5.96</td>\n",
       "      <td>9.27</td>\n",
       "      <td>17</td>\n",
       "      <td>151.47</td>\n",
       "    </tr>\n",
       "    <tr>\n",
       "      <th>PAO</th>\n",
       "      <td>9.37</td>\n",
       "      <td>8.27</td>\n",
       "      <td>7.54</td>\n",
       "      <td>11</td>\n",
       "      <td>103.07</td>\n",
       "    </tr>\n",
       "    <tr>\n",
       "      <th>PIN</th>\n",
       "      <td>1.53</td>\n",
       "      <td>1.28</td>\n",
       "      <td>0.97</td>\n",
       "      <td>33</td>\n",
       "      <td>50.49</td>\n",
       "    </tr>\n",
       "    <tr>\n",
       "      <th>POUT</th>\n",
       "      <td>2.52</td>\n",
       "      <td>2.11</td>\n",
       "      <td>1.33</td>\n",
       "      <td>17</td>\n",
       "      <td>42.84</td>\n",
       "    </tr>\n",
       "    <tr>\n",
       "      <th>PREP</th>\n",
       "      <td>24.77</td>\n",
       "      <td>27.61</td>\n",
       "      <td>12.54</td>\n",
       "      <td>16</td>\n",
       "      <td>396.32</td>\n",
       "    </tr>\n",
       "    <tr>\n",
       "      <th>TIP</th>\n",
       "      <td>14.19</td>\n",
       "      <td>4.48</td>\n",
       "      <td>16.42</td>\n",
       "      <td>22</td>\n",
       "      <td>312.18</td>\n",
       "    </tr>\n",
       "    <tr>\n",
       "      <th>TRS</th>\n",
       "      <td>8.68</td>\n",
       "      <td>7.88</td>\n",
       "      <td>3.80</td>\n",
       "      <td>18</td>\n",
       "      <td>156.24</td>\n",
       "    </tr>\n",
       "  </tbody>\n",
       "</table>\n",
       "</div>"
      ],
      "text/plain": [
       "      length                            \n",
       "        mean median    std count   total\n",
       "Phase                                   \n",
       "LAC     8.91   5.96   9.27    17  151.47\n",
       "PAO     9.37   8.27   7.54    11  103.07\n",
       "PIN     1.53   1.28   0.97    33   50.49\n",
       "POUT    2.52   2.11   1.33    17   42.84\n",
       "PREP   24.77  27.61  12.54    16  396.32\n",
       "TIP    14.19   4.48  16.42    22  312.18\n",
       "TRS     8.68   7.88   3.80    18  156.24"
      ]
     },
     "execution_count": 64,
     "metadata": {},
     "output_type": "execute_result"
    }
   ],
   "source": [
    "summary"
   ]
  },
  {
   "cell_type": "code",
   "execution_count": null,
   "id": "9667d7f0",
   "metadata": {},
   "outputs": [],
   "source": []
  }
 ],
 "metadata": {
  "kernelspec": {
   "display_name": "Python 3 (ipykernel)",
   "language": "python",
   "name": "python3"
  },
  "language_info": {
   "codemirror_mode": {
    "name": "ipython",
    "version": 3
   },
   "file_extension": ".py",
   "mimetype": "text/x-python",
   "name": "python",
   "nbconvert_exporter": "python",
   "pygments_lexer": "ipython3",
   "version": "3.8.10"
  }
 },
 "nbformat": 4,
 "nbformat_minor": 5
}
